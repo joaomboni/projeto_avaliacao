{
 "cells": [
  {
   "cell_type": "code",
   "execution_count": 23,
   "id": "racial-equipment",
   "metadata": {},
   "outputs": [],
   "source": [
    "import matplotlib.pyplot as plt\n",
    "import pandas as pd"
   ]
  },
  {
   "cell_type": "code",
   "execution_count": 2,
   "id": "demonstrated-treatment",
   "metadata": {},
   "outputs": [],
   "source": [
    "# %GORDURA:\n",
    "def densidade(s):\n",
    "    return (1.112-0.00043499 * (s) + 0.00000055 * (s) * 2 - 0.00028826 * (idade))\n",
    "def gord(ds):\n",
    "    return(((4.95 / ds) - 4.50) * 100)\n",
    "#def mulher(ambm):\n",
    "    #return ((biceps_relax - (3.14 * tricipital)**2 )/ 4*3.14 - 6.5)\n",
    "#def homem(ambh):\n",
    "    #return ((biceps_relax - (3.14 * tricipital)**2 )/ 4*3.14 - 10.0)"
   ]
  },
  {
   "cell_type": "markdown",
   "id": "dynamic-academy",
   "metadata": {},
   "source": [
    "# Anamnese"
   ]
  },
  {
   "cell_type": "code",
   "execution_count": 3,
   "id": "conservative-walker",
   "metadata": {},
   "outputs": [
    {
     "name": "stdout",
     "output_type": "stream",
     "text": [
      "Informe o peso:\n",
      "83.00\n",
      "Informe a altura:\n",
      "1.83\n",
      "Informe o sexo:\n",
      "masculino\n",
      "Os objetivos do aluno:\n",
      "hipertrofia\n",
      "Qual a frequencia semanal:\n",
      "6x\n",
      "Informe a sua idade:\n",
      "26\n"
     ]
    }
   ],
   "source": [
    "## anamnese\n",
    "peso = float(input('Informe o peso:\\n'))\n",
    "altura = float(input('Informe a altura:\\n'))\n",
    "sexo = input('Informe o sexo:\\n')\n",
    "obj = input('Os objetivos do aluno:\\n')\n",
    "freq = input('Qual a frequencia semanal:\\n')\n",
    "idade = int(input('Informe a sua idade:\\n'))"
   ]
  },
  {
   "cell_type": "markdown",
   "id": "dutch-aruba",
   "metadata": {},
   "source": [
    "# Cirncunferencias"
   ]
  },
  {
   "cell_type": "code",
   "execution_count": 4,
   "id": "starting-purple",
   "metadata": {},
   "outputs": [
    {
     "name": "stdout",
     "output_type": "stream",
     "text": [
      "\n",
      "\n",
      "Circunferencias do tronco:\n",
      "\n",
      "Ombro:\n",
      "112\n",
      "Peitoral:\n",
      "104\n",
      "Cintura:\n",
      "89\n",
      "Abdomen:\n",
      "98.5\n",
      "Quadril:\n",
      "124.5\n"
     ]
    }
   ],
   "source": [
    "##### TRONCO\n",
    "print('\\n\\nCircunferencias do tronco:\\n')\n",
    "ombro = float(input('Ombro:\\n'))\n",
    "peitoral = float(input('Peitoral:\\n'))\n",
    "cintura = float(input('Cintura:\\n'))\n",
    "abdomen = float(input('Abdomen:\\n'))\n",
    "quadril = float(input('Quadril:\\n'))\n"
   ]
  },
  {
   "cell_type": "code",
   "execution_count": 5,
   "id": "norwegian-infrared",
   "metadata": {},
   "outputs": [
    {
     "name": "stdout",
     "output_type": "stream",
     "text": [
      "\n",
      "\n",
      "Circunferencia do lado esquerdo:\n",
      "\n",
      "Biceps Relaxado:\n",
      "35.5\n",
      "Biceps Contraido:\n",
      "35.5\n",
      "Antebraço:\n",
      "20.0\n",
      "Coxa Proximal:\n",
      "80\n",
      "Coxa Medial:\n",
      "69.00\n",
      "Coxa Distal:\n",
      "50\n",
      "Panturrilha Medial:\n",
      "44.5\n"
     ]
    }
   ],
   "source": [
    "##LADO ESQUERDO\n",
    "print('\\n\\nCircunferencia do lado esquerdo:\\n')\n",
    "biceps_relaxe = float(input('Biceps Relaxado:\\n'))\n",
    "biceps_conte = float(input('Biceps Contraido:\\n'))\n",
    "antebracoe = float(input('Antebraço:\\n'))\n",
    "coxa_proxe = float(input('Coxa Proximal:\\n'))\n",
    "coxa_mede = float(input('Coxa Medial:\\n'))\n",
    "coxa_diste = float(input('Coxa Distal:\\n'))\n",
    "pant_mede = float(input('Panturrilha Medial:\\n'))"
   ]
  },
  {
   "cell_type": "code",
   "execution_count": 6,
   "id": "comparable-military",
   "metadata": {},
   "outputs": [
    {
     "name": "stdout",
     "output_type": "stream",
     "text": [
      "\n",
      "\n",
      "Circunferencia do lado direito:\n",
      "\n",
      "Biceps Relaxado:\n",
      "35.5\n",
      "Biceps Contraido:\n",
      "35.5\n",
      "Antebraço:\n",
      "20\n",
      "Coxa Proximal:\n",
      "80.00\n",
      "Coxa Medial:\n",
      "69.00\n",
      "Coxa Distal:\n",
      "50.00\n",
      "Panturrilha Medial:\n",
      "45.00\n"
     ]
    }
   ],
   "source": [
    "##LADO DIREITO \n",
    "print('\\n\\nCircunferencia do lado direito:\\n')\n",
    "biceps_relax = float(input('Biceps Relaxado:\\n'))\n",
    "biceps_cont = float(input('Biceps Contraido:\\n'))\n",
    "antebraco = float(input('Antebraço:\\n'))\n",
    "coxa_prox = float(input('Coxa Proximal:\\n'))\n",
    "coxa_med = float(input('Coxa Medial:\\n'))\n",
    "coxa_dist = float(input('Coxa Distal:\\n'))\n",
    "pant_med = float(input('Panturrilha Medial:\\n'))"
   ]
  },
  {
   "cell_type": "markdown",
   "id": "bottom-inclusion",
   "metadata": {},
   "source": [
    "# Dobras Cutâneas"
   ]
  },
  {
   "cell_type": "code",
   "execution_count": 7,
   "id": "sudden-cooper",
   "metadata": {},
   "outputs": [
    {
     "name": "stdout",
     "output_type": "stream",
     "text": [
      "\n",
      "Dobras Cutâneas Pollock:\n",
      "\n",
      "\n",
      "Subscapular:\n",
      "10\n",
      "Tricipital:\n",
      "10\n",
      "Supra-Iliaca:\n",
      "10\n",
      "Axilar-Media:\n",
      "10\n",
      "Peitoral:\n",
      "10\n",
      "Abdominal:\n",
      "10\n",
      "Coxa:\n",
      "10\n"
     ]
    }
   ],
   "source": [
    "# Dobras cutaneas\n",
    "print('\\nDobras Cutâneas Pollock:\\n\\n')\n",
    "subscapular = float(input('Subscapular:\\n'))\n",
    "tricipital = float(input('Tricipital:\\n'))\n",
    "supra_iliaca = float(input('Supra-Iliaca:\\n'))\n",
    "axilar_media = float(input('Axilar-Media:\\n'))\n",
    "peitoral = float(input('Peitoral:\\n'))\n",
    "Abd = float(input('Abdominal:\\n'))\n",
    "coxa = float(input('Coxa:\\n'))"
   ]
  },
  {
   "cell_type": "markdown",
   "id": "modern-running",
   "metadata": {},
   "source": [
    "# Soma de todas as 7 dobras"
   ]
  },
  {
   "cell_type": "code",
   "execution_count": 8,
   "id": "sound-basis",
   "metadata": {},
   "outputs": [
    {
     "name": "stdout",
     "output_type": "stream",
     "text": [
      "70.0\n"
     ]
    }
   ],
   "source": [
    "s = (subscapular + tricipital + supra_iliaca + supra_iliaca + peitoral + Abd + coxa)\n",
    "print(s)"
   ]
  },
  {
   "cell_type": "markdown",
   "id": "authentic-research",
   "metadata": {},
   "source": [
    "# Formula da Densidade Corporal (DS)"
   ]
  },
  {
   "cell_type": "code",
   "execution_count": 9,
   "id": "complex-industry",
   "metadata": {},
   "outputs": [
    {
     "name": "stdout",
     "output_type": "stream",
     "text": [
      "\n",
      "Densidade Corporal:\n",
      "\n",
      "1.07\n"
     ]
    }
   ],
   "source": [
    "## densidade corporal \n",
    "print('\\nDensidade Corporal:\\n')\n",
    "ds = densidade(s)\n",
    "print('%.2f'%ds)"
   ]
  },
  {
   "cell_type": "markdown",
   "id": "organic-sailing",
   "metadata": {},
   "source": [
    "# Formula de Percentual de Gordura (%g)"
   ]
  },
  {
   "cell_type": "code",
   "execution_count": 10,
   "id": "adjacent-cambridge",
   "metadata": {},
   "outputs": [
    {
     "name": "stdout",
     "output_type": "stream",
     "text": [
      "\n",
      "%Gordura:\n",
      "\n",
      "10.84\n"
     ]
    }
   ],
   "source": [
    "##%G\n",
    "print('\\n%Gordura:\\n')\n",
    "g = gord(ds)\n",
    "print('%.2f'%g)"
   ]
  },
  {
   "cell_type": "markdown",
   "id": "massive-defendant",
   "metadata": {},
   "source": [
    "# Formula de Massas Magra (%mm)"
   ]
  },
  {
   "cell_type": "code",
   "execution_count": 11,
   "id": "annoying-andrew",
   "metadata": {},
   "outputs": [
    {
     "name": "stdout",
     "output_type": "stream",
     "text": [
      "\n",
      "%Massa Magra:\n",
      "\n",
      "72.16\n"
     ]
    }
   ],
   "source": [
    "##%MASSA MAGRA\n",
    "print('\\n%Massa Magra:\\n')\n",
    "mm =float(peso - g)\n",
    "print('%.2f'%mm)"
   ]
  },
  {
   "cell_type": "markdown",
   "id": "fabulous-barrier",
   "metadata": {},
   "source": [
    "# Calculo do IMC"
   ]
  },
  {
   "cell_type": "code",
   "execution_count": 12,
   "id": "transsexual-bailey",
   "metadata": {},
   "outputs": [
    {
     "name": "stdout",
     "output_type": "stream",
     "text": [
      "24.78\n",
      "Parabéns\n"
     ]
    }
   ],
   "source": [
    "## IMC \n",
    "imc = float(peso/(altura**2))\n",
    "print('%.2f'%imc)\n",
    "if imc >= 25.00:\n",
    "    print('Você está acima do peso, procure de cuidar!')\n",
    "elif imc <= 18.50:\n",
    "    print('Você está abaixo do peso')\n",
    "else:\n",
    "    print('Parabéns')"
   ]
  },
  {
   "cell_type": "markdown",
   "id": "renewable-military",
   "metadata": {},
   "source": [
    "# Área Muscular do Braço (mulheres - AMBm) - (homens - AMBh)"
   ]
  },
  {
   "cell_type": "code",
   "execution_count": 17,
   "id": "afraid-diagram",
   "metadata": {},
   "outputs": [
    {
     "name": "stdout",
     "output_type": "stream",
     "text": [
      "6.57\n"
     ]
    }
   ],
   "source": [
    "##AREA MUSCULAR DO BRAÇO MULHER = AMB para mulheres = [CB (mm) – (π x PCT)]² / 4π – 6,5\n",
    "if sexo == 'feminino':\n",
    "    mulher = ((biceps_relax - (3.14 * tricipital))** 2/ (4 * 3.14 - 6.5))\n",
    "    print('%.2f'%mulher)\n",
    "    \n",
    "else:\n",
    "    ##AREA MUSCULAR DO BRACO HOMEN = AMB para homens = [CB (mm) – (π x PCT)]² / 4π – 10,0\n",
    "    homem =((biceps_relax - (3.14 * tricipital))**2/(4*3.14 - 10.0))\n",
    "print('%.2f'%homem)\n",
    "    \n"
   ]
  },
  {
   "cell_type": "markdown",
   "id": "collected-parker",
   "metadata": {},
   "source": [
    "# Massa Muscular"
   ]
  },
  {
   "cell_type": "code",
   "execution_count": 21,
   "id": "sophisticated-adult",
   "metadata": {},
   "outputs": [
    {
     "name": "stdout",
     "output_type": "stream",
     "text": [
      "Seu % Massa Muscular é:39.68\n"
     ]
    }
   ],
   "source": [
    "##Massa Muscular (kg) = Estatura (cm) x [0,0264 + (0,029 x AMB)]\n",
    "if sexo == 'feminino':\n",
    "    alturacm = float(altura*100)\n",
    "    massa_muscular_mulher = alturacm * (0.0264 + (0.029 * mulher))\n",
    "    print('Seu %% Massa Muscular é:%.2f'%massa_muscular_mulher)\n",
    "    \n",
    "else:\n",
    "    alturacm = float(altura*100)\n",
    "    massa_muscular_homem = alturacm * (0.0264 + (0.029 * homem))\n",
    "    print('Seu %% Massa Muscular é:%.2f'%massa_muscular_homem)\n"
   ]
  },
  {
   "cell_type": "markdown",
   "id": "outer-newfoundland",
   "metadata": {},
   "source": [
    "# Grafico"
   ]
  },
  {
   "cell_type": "code",
   "execution_count": 25,
   "id": "configured-lodge",
   "metadata": {},
   "outputs": [],
   "source": [
    "obj = ('Gordura', 'Massa Muscular')\n",
    "valores = (['g'] == [0],\n",
    "          ['mass_muscular_homem'] == [1])\n",
    "        "
   ]
  },
  {
   "cell_type": "code",
   "execution_count": 26,
   "id": "coordinate-mercy",
   "metadata": {},
   "outputs": [
    {
     "name": "stderr",
     "output_type": "stream",
     "text": [
      "<ipython-input-26-ce51fc3dbd36>:2: MatplotlibDeprecationWarning: normalize=None does not normalize if the sum is less than 1 but this behavior is deprecated since 3.3 until two minor releases later. After the deprecation period the default value will be normalize=True. To prevent normalization pass normalize=False \n",
      "  plt.pie(valores, labels = obj, colors = colors, autopct = '%1.f%%', shadow = True, startangle = 0)\n"
     ]
    },
    {
     "data": {
      "image/png": "[encoded data removed]",
      "text/plain": [
       "<Figure size 432x288 with 1 Axes>"
      ]
     },
     "metadata": {},
     "output_type": "display_data"
    }
   ],
   "source": [
    "colors = ['green', 'yellow']\n",
    "plt.pie(valores, labels = obj, colors = colors, autopct = '%1.f%%', shadow = True, startangle = 0)\n",
    "plt.show()"
   ]
  }
 ],
 "metadata": {
  "kernelspec": {
   "display_name": "Python 3",
   "language": "python",
   "name": "python3"
  },
  "language_info": {
   "codemirror_mode": {
    "name": "ipython",
    "version": 3
   },
   "file_extension": ".py",
   "mimetype": "text/x-python",
   "name": "python",
   "nbconvert_exporter": "python",
   "pygments_lexer": "ipython3",
   "version": "3.9.1"
  }
 },
 "nbformat": 4,
 "nbformat_minor": 5
}
